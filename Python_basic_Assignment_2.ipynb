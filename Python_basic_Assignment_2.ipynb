{
  "nbformat": 4,
  "nbformat_minor": 0,
  "metadata": {
    "colab": {
      "name": "Python basic - Assignment 2.ipynb",
      "provenance": []
    },
    "kernelspec": {
      "name": "python3",
      "display_name": "Python 3"
    },
    "language_info": {
      "name": "python"
    }
  },
  "cells": [
    {
      "cell_type": "markdown",
      "source": [
        "1.What are the two values of the Boolean data type? How do you write them?\n",
        "\n",
        "Answer:\n",
        "\n",
        "True , \n",
        "\n",
        "False"
      ],
      "metadata": {
        "id": "AZRFofQFbonB"
      }
    },
    {
      "cell_type": "markdown",
      "source": [
        "2. What are the three different types of Boolean operators?\n",
        "\n",
        " Answer:\n",
        " \n",
        " AND \n",
        "\n",
        " OR\n",
        "\n",
        " NOT"
      ],
      "metadata": {
        "id": "-PvaH78FbrJo"
      }
    },
    {
      "cell_type": "markdown",
      "source": [
        "3. Make a list of each Boolean operator&#39;s truth tables (i.e. every possible combination of Boolean\n",
        "values for the operator and what it evaluate ).\n",
        "\n",
        "Answer:\n",
        "AND, \n",
        "\n",
        "OR,\n",
        "\n",
        "NOT\n",
        "\n",
        "or \n",
        "\n",
        "AND NOT"
      ],
      "metadata": {
        "id": "w2sF8iL1cHya"
      }
    },
    {
      "cell_type": "markdown",
      "source": [
        "4. What are the values of the following expressions?\n",
        "(5 > 4) and (3 == 5)\n",
        "not (5 > 4)\n",
        "(5 > 4) or (3 == 5)\n",
        "not ((5 > 4) or (3 == 5))\n",
        "(True and True) and (True == False)\n",
        "(not False) or (not True)\n",
        "\n",
        "\n",
        "Answer:\n",
        "\n",
        "False\n",
        "\n",
        "False\n",
        "\n",
        "False\n",
        "\n",
        "Flase\n",
        "\n",
        "False\n",
        "\n",
        "\n",
        "True\n",
        "\n",
        "\n",
        "\n"
      ],
      "metadata": {
        "id": "-ZKBGqDkkAAq"
      }
    },
    {
      "cell_type": "markdown",
      "source": [
        "5. What are the six comparison operators?\n",
        "\n",
        "Answer:\n",
        "\n",
        "equal to,\n",
        "\n",
        "not equal to,\n",
        "\n",
        "greater than,\n",
        "\n",
        "greater than or equal to,\n",
        "\n",
        "less than,\n",
        "\n",
        "and less than or equal to\n"
      ],
      "metadata": {
        "id": "jclQNZfKn9M7"
      }
    },
    {
      "cell_type": "markdown",
      "source": [
        "6. How do you tell the difference between the equal to and assignment operators?Describe a condition and when you would use one.\n",
        "\n",
        "\n",
        "Answer:\n",
        "\n",
        "== is the equal to operator, to make check with other values.\n",
        "\n",
        "= is the assignment operator, used to assign values\n",
        "\n"
      ],
      "metadata": {
        "id": "rsAj6pORoZPB"
      }
    },
    {
      "cell_type": "code",
      "source": [
        "7. Identify the three blocks in this code:\n",
        "spam = 0\n",
        "if spam == 10:\n",
        "print('eggs')\n",
        "if spam > 5:\n",
        "print('bacon')\n",
        "else:\n",
        "print('ham')\n",
        "print('spam')\n",
        "print('spam')\n",
        "\n",
        "Answer:\n",
        "spam = 0\n",
        "if spam == 10: #block A\n",
        "  print('eggs')\n",
        "  if spam > 5:  \n",
        "        print('bacon') #block B,  Inside A\n",
        "  else:\n",
        "        print('ham') #block C ,  Inside A\n",
        "  print('spam')\n",
        "print('spam')"
      ],
      "metadata": {
        "id": "PW3Mm91Lpotg"
      },
      "execution_count": null,
      "outputs": []
    },
    {
      "cell_type": "code",
      "source": [
        "#8. Write code that prints Hello if 1 is stored in spam, prints Howdy if 2 is stored in spam, and prints Greetings! if anything else is stored in spam.\n",
        "\n",
        "Answer:\n",
        "\n",
        "spam = 0\n",
        "if spam == 1:\n",
        "  print('Hello')\n",
        "elif spam == 2:\n",
        "  print('Howdy')\n",
        "else:\n",
        "  print('Greetings!')\n"
      ],
      "metadata": {
        "colab": {
          "base_uri": "https://localhost:8080/"
        },
        "id": "A6TMGiIdssS0",
        "outputId": "3e6ae9e1-1ae3-4566-9eab-867e4832ebf9"
      },
      "execution_count": 9,
      "outputs": [
        {
          "output_type": "stream",
          "name": "stdout",
          "text": [
            "Greetings!\n"
          ]
        }
      ]
    },
    {
      "cell_type": "markdown",
      "source": [
        "9.If your programme is stuck in an endless loop, what keys you’ll press?\n",
        "\n",
        "Answer:\n",
        "\n",
        "Ctrl + C"
      ],
      "metadata": {
        "id": "vqVdEgR_toxz"
      }
    },
    {
      "cell_type": "markdown",
      "source": [
        "10. How can you tell the difference between break and continue?\n",
        "\n",
        "Answer:\n",
        "\n",
        "Break = Immediate termination of loop.\n",
        "\n",
        "Continue = Terminate the current iteration and resumes the control to the next iteration of the loop.\n"
      ],
      "metadata": {
        "id": "cnk8yVqwtyTB"
      }
    },
    {
      "cell_type": "markdown",
      "source": [
        "11. In a for loop, what is the difference between range(10), range(0, 10), and range(0, 10, 1)?\n",
        "\n",
        "Answer:\n",
        "\n",
        "range(10) - Return sequence of number form 0 and increament by 1 and stop before the 10 given value.\n",
        "\n",
        "for i in range(10):\n",
        "  print(i)\n",
        "\n",
        "range(0,10) - Return sequence of number form 0 and increament by 1 and stop before the 10 given value.\n",
        "\n",
        "for i in range(0,10):\n",
        "  print(i)\n",
        "\n",
        "range(0, 10, 1) - Return sequence of number form 0 and increament normaly by 1 and stop before the 10 given value.\n",
        "\n",
        "for i in range(0,10, 1):\n",
        "  print(i)\n",
        "\n",
        "\n"
      ],
      "metadata": {
        "id": "13UtNiiTuYEe"
      }
    },
    {
      "cell_type": "code",
      "source": [
        "\n",
        "#12. Write a short program that prints the numbers 1 to 10 using a for loop. Then write an equivalent program that prints the numbers 1 to 10 using a while loop.\n",
        "\n",
        "for i in range(1,11):\n",
        "  print(i)\n",
        "\n",
        "i = 1\n",
        "while i <= 10:\n",
        "  print(i)\n",
        "  i += 1 \n"
      ],
      "metadata": {
        "colab": {
          "base_uri": "https://localhost:8080/"
        },
        "id": "6mKfs9BEwAWD",
        "outputId": "c56866d5-88eb-4783-c96f-d1580f94905b"
      },
      "execution_count": 21,
      "outputs": [
        {
          "output_type": "stream",
          "name": "stdout",
          "text": [
            "1\n",
            "2\n",
            "3\n",
            "4\n",
            "5\n",
            "6\n",
            "7\n",
            "8\n",
            "9\n",
            "10\n",
            "1\n",
            "2\n",
            "3\n",
            "4\n",
            "5\n",
            "6\n",
            "7\n",
            "8\n",
            "9\n",
            "10\n"
          ]
        }
      ]
    },
    {
      "cell_type": "code",
      "source": [
        "#13. If you had a function named bacon() inside a module named spam, how would you call it after importing spam?\n",
        "\n",
        "spam.bacon()"
      ],
      "metadata": {
        "id": "GK9zJJ2ExY5X"
      },
      "execution_count": null,
      "outputs": []
    }
  ]
}