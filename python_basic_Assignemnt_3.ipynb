{
  "nbformat": 4,
  "nbformat_minor": 0,
  "metadata": {
    "colab": {
      "name": "python basic_Assignemnt 3.ipynb",
      "provenance": []
    },
    "kernelspec": {
      "name": "python3",
      "display_name": "Python 3"
    },
    "language_info": {
      "name": "python"
    }
  },
  "cells": [
    {
      "cell_type": "markdown",
      "source": [
        "1. Why are functions advantageous to have in your programs?\n",
        "\n",
        "Answer:\n",
        "\n",
        "Function reduce the duplicated code."
      ],
      "metadata": {
        "id": "7U0XI8ZP5l0X"
      }
    },
    {
      "cell_type": "markdown",
      "source": [
        "2. When does the code in a function run: when it's specified or when it's called?\n",
        "\n",
        "Answer:\n",
        "\n",
        "when it's called\n"
      ],
      "metadata": {
        "id": "PoFK_EL755HS"
      }
    },
    {
      "cell_type": "markdown",
      "source": [
        "3. What statement creates a function?\n",
        "\n",
        "Answer:\n",
        "\n",
        "\"def\" is the statement used for create a function."
      ],
      "metadata": {
        "id": "9B6hIlaO6HJl"
      }
    },
    {
      "cell_type": "markdown",
      "source": [
        "4. What is the difference between a function and a function call?\n",
        "\n",
        "Answer:\n",
        "\n",
        "Function : Run some condition or line to return some result.\n",
        "\n",
        "function call: To call the existing function to perform any action."
      ],
      "metadata": {
        "id": "KLnULGRh7Tee"
      }
    },
    {
      "cell_type": "markdown",
      "source": [
        "5. How many global scopes are there in a Python program? How many local scopes?\n",
        "\n",
        "Answer:\n",
        "\n",
        "Only one global scopes and local scopes\n"
      ],
      "metadata": {
        "id": "I7Z2qZgJ8D0z"
      }
    },
    {
      "cell_type": "markdown",
      "source": [
        "6. What happens to variables in a local scope when the function call returns?\n",
        "\n",
        "Answer:\n",
        "\n",
        "Local variable will disappear once function return."
      ],
      "metadata": {
        "id": "wgBxmisYBqVF"
      }
    },
    {
      "cell_type": "markdown",
      "source": [
        "7. What is the concept of a return value? Is it possible to have a return value in an expression?\n",
        "\n",
        "\n",
        "Answer:\n",
        "\n",
        "when its complete the task inside the function, Function will return the result.\n",
        "Values returen as object, interger, string, call another function.\n"
      ],
      "metadata": {
        "id": "BSahLgsrCH5k"
      }
    },
    {
      "cell_type": "markdown",
      "source": [
        "8. If a function does not have a return statement, what is the return value of a call to that function?\n",
        "\n",
        "Answer:\n",
        "\n",
        "Its will not return any value. It return none."
      ],
      "metadata": {
        "id": "ZS_3QHL0CvZG"
      }
    },
    {
      "cell_type": "markdown",
      "source": [
        "9. How do you make a function variable refer to the global variable?\n",
        "\n",
        "Answer:\n",
        "\n",
        "We can use the function global variable which is declare at globally"
      ],
      "metadata": {
        "id": "rXqb1Ss7EJVr"
      }
    },
    {
      "cell_type": "markdown",
      "source": [
        "10. What is the data type of None?\n",
        "\n",
        "Answer:\n",
        "\n",
        " It will show as \"NoneType\"\n",
        "\n",
        "\n",
        "def nonevalue():\n",
        "   val =''\n",
        "\n",
        "result = func()\n",
        "type(result)\n"
      ],
      "metadata": {
        "id": "fYSFPOB1Ej7M"
      }
    },
    {
      "cell_type": "markdown",
      "source": [
        "11. What does the sentence import areallyourpetsnamederic do?\n",
        "\n",
        "Answer:\n",
        "\n",
        "imports a module named areallyourpetsnamederic\n"
      ],
      "metadata": {
        "id": "k_h_LKWXFreR"
      }
    },
    {
      "cell_type": "markdown",
      "source": [
        "12. If you had a bacon() feature in a spam module, what would you call it after importing spam?\n",
        "\n",
        "Answer:\n",
        "spam.bacon()"
      ],
      "metadata": {
        "id": "6T8ED_TqGEkC"
      }
    },
    {
      "cell_type": "markdown",
      "source": [
        "13. What can you do to save a programme from crashing if it encounters an error?\n",
        "\n",
        "Answer:\n",
        "\n",
        "Error handling will be used to save a programe from crashing.\n",
        "\n"
      ],
      "metadata": {
        "id": "askKhVynGWL1"
      }
    },
    {
      "cell_type": "markdown",
      "source": [
        "14. What is the purpose of the try clause? What is the purpose of the except clause?\n",
        "\n",
        "Answer:\n",
        "\n",
        "Try block used to test the code to find error.\n",
        "\n",
        "Except block used to handle the error happend in the try block."
      ],
      "metadata": {
        "id": "eXFU9M5OGuMr"
      }
    }
  ]
}