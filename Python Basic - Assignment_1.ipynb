{
  "nbformat": 4,
  "nbformat_minor": 0,
  "metadata": {
    "colab": {
      "name": "Assignment1.ipynb",
      "provenance": []
    },
    "kernelspec": {
      "name": "python3",
      "display_name": "Python 3"
    },
    "language_info": {
      "name": "python"
    }
  },
  "cells": [
    {
      "cell_type": "markdown",
      "source": [
        ""
      ],
      "metadata": {
        "id": "N-gFPhM-W_To"
      }
    },
    {
      "cell_type": "code",
      "source": [
        "1. In the below elements which of them are values or an expression? eg:- values can be integer or string and expressions will be mathematical operators.\n",
        "* \n",
        "'hello'\n",
        "-87.8\n",
        "- \n",
        "/ \n",
        "\n",
        "+\n",
        "6 \n",
        "\n",
        "Answer:\n",
        "* \n",
        "'hello'\n",
        "-87.8\n",
        "- \n",
        "/ \n",
        "\n",
        "+\n",
        "6 "
      ],
      "metadata": {
        "id": "tPS23muhXRHx"
      },
      "execution_count": null,
      "outputs": []
    },
    {
      "cell_type": "markdown",
      "source": [
        "2. What is the difference between string and variable?\n",
        "\n",
        "\n",
        "Answer:\n",
        "\n",
        "variable:\n",
        "Store everything including string as a local memory in the computer\n",
        "\n",
        "string:\n",
        "string is the value inside the quotes. It is the collection of character\n"
      ],
      "metadata": {
        "id": "lNtJN6dMXVMf"
      }
    },
    {
      "cell_type": "markdown",
      "source": [
        "3. Describe three different data types.\n",
        "\n",
        "\n",
        "Answer:\n",
        "\n",
        "Interger\n",
        "String\n",
        "Boolean"
      ],
      "metadata": {
        "id": "bUs8zqn9W6f2"
      }
    },
    {
      "cell_type": "markdown",
      "source": [
        "4. What is an expression made up of? What do all expressions do?\n",
        "\n",
        "Answer:\n",
        "\n",
        "variable, operator and method. It is combination of operator and operand  that interpreted to product some values."
      ],
      "metadata": {
        "id": "_3Z_FLMGW2mi"
      }
    },
    {
      "cell_type": "markdown",
      "source": [
        "5. This assignment statements, like spam = 10. What is the difference between an expression and a statement?\n",
        "\n",
        "\n",
        "Answer:\n",
        "\n",
        "Expression is an opererator to give result using operand.\n",
        "Statement is an instraction with variable and operator  to execute by python. "
      ],
      "metadata": {
        "id": "0G6QEdNyWwRW"
      }
    },
    {
      "cell_type": "markdown",
      "source": [
        "6. After running the following code, what does the variable bacon contain?\n",
        "bacon = 22\n",
        "bacon + 1\n",
        "\n",
        "\n",
        "Answer: 23\n",
        "\n"
      ],
      "metadata": {
        "id": "QUz_drGxWr3p"
      }
    },
    {
      "cell_type": "markdown",
      "source": [
        "7. What should the values of the following two terms be?\n",
        "'spam' + 'spamspam'\n",
        "'spam' * 3\n",
        "\n",
        "\n",
        "\n",
        "Answer:\n",
        "'spamspamspam'\n",
        "spamspamspam\n"
      ],
      "metadata": {
        "id": "7E0fvedPWn72"
      }
    },
    {
      "cell_type": "markdown",
      "source": [
        "8. Why is eggs a valid variable name while 100 is invalid?\n",
        "\n",
        "Answer:\n",
        "Variable name not start with interger.\n"
      ],
      "metadata": {
        "id": "xFlEwT9XWj1M"
      }
    },
    {
      "cell_type": "markdown",
      "source": [
        "9. What three functions can be used to get the integer, floating-point number, or string version of a value?\n",
        "\n",
        "Answer:\n",
        "Int()\n",
        "float()\n",
        "str()"
      ],
      "metadata": {
        "id": "zi8gW3AwVyoX"
      }
    },
    {
      "cell_type": "markdown",
      "source": [
        "10. Why does this expression cause an error? How can you fix it?\n",
        "'I have eaten ' + 99 + ' burritos.'\n",
        "\n",
        "Answer:\n",
        "string and interger cannot be concat, \"99\" is an integer so it cannot able to conat with string."
      ],
      "metadata": {
        "id": "1D0LW4bPV9KD"
      }
    }
  ]
}